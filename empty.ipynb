{
  "cells": [
    {
      "cell_type": "markdown",
      "metadata": {
        "id": "view-in-github",
        "colab_type": "text"
      },
      "source": [
        "<a href=\"https://colab.research.google.com/github/HosseinEyvazi/Data-visualization/blob/main/empty.ipynb\" target=\"_parent\"><img src=\"https://colab.research.google.com/assets/colab-badge.svg\" alt=\"Open In Colab\"/></a>"
      ]
    },
    {
      "cell_type": "markdown",
      "source": [
        "## The most important viz types :\n",
        "\n",
        "\n",
        "1.   bar chart : to plot the frequency of each value\n",
        "2.   line chart\n",
        "3.   histogram (vs bar chart : this is over interval but line chart is on EACH data point)\n",
        "4.   scatter plot : to find correlation and patterns in multi-variable data . is very similar to bubble chart . can has got more dimenions (shape and color of scatters)\n",
        "5.   bubble chart : has hot 2 additional dimesnions (size and color of bubbles)\n",
        "6.   box plot : to highlight median , quartiles , median\n",
        "7.  gantt chart : managing task and resoureces .\n",
        "\n",
        "\n",
        "\n",
        "\n",
        "discretes : \\\n",
        "continouses :\n",
        "\n"
      ],
      "metadata": {
        "id": "9WENXx7wgZCW"
      }
    }
  ],
  "metadata": {
    "kernelspec": {
      "display_name": "Python 3",
      "language": "python",
      "name": "python3"
    },
    "language_info": {
      "codemirror_mode": {
        "name": "ipython",
        "version": 3
      },
      "file_extension": ".py",
      "mimetype": "text/x-python",
      "name": "python",
      "nbconvert_exporter": "python",
      "pygments_lexer": "ipython3",
      "version": "3.6.7"
    },
    "colab": {
      "provenance": [],
      "include_colab_link": true
    }
  },
  "nbformat": 4,
  "nbformat_minor": 0
}